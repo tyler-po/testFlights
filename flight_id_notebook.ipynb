{
 "cells": [
  {
   "cell_type": "code",
   "execution_count": 1,
   "metadata": {},
   "outputs": [
    {
     "name": "stdout",
     "output_type": "stream",
     "text": [
      "Starting Spark application\n"
     ]
    },
    {
     "data": {
      "text/html": [
       "<table>\n",
       "<tr><th>ID</th><th>YARN Application ID</th><th>Kind</th><th>State</th><th>Spark UI</th><th>Driver log</th><th>Current session?</th></tr><tr><td>0</td><td>application_1556550105484_0001</td><td>pyspark</td><td>idle</td><td><a target=\"_blank\" href=\"http://ip-172-31-47-226.ec2.internal:20888/proxy/application_1556550105484_0001/\">Link</a></td><td><a target=\"_blank\" href=\"http://ip-172-31-41-26.ec2.internal:8042/node/containerlogs/container_1556550105484_0001_01_000001/livy\">Link</a></td><td>✔</td></tr></table>"
      ],
      "text/plain": [
       "<IPython.core.display.HTML object>"
      ]
     },
     "metadata": {},
     "output_type": "display_data"
    },
    {
     "name": "stdout",
     "output_type": "stream",
     "text": [
      "SparkSession available as 'spark'.\n"
     ]
    }
   ],
   "source": [
    "import sys\n",
    "from awsglue.transforms import *\n",
    "from awsglue.utils import getResolvedOptions\n",
    "from pyspark.context import SparkContext\n",
    "from awsglue.context import GlueContext\n",
    "from awsglue.dynamicframe import DynamicFrame\n",
    "from awsglue.job import Job\n",
    "from pyspark.sql import SparkSession\n",
    "from pyspark.sql.functions import udf\n",
    "from pyspark.sql.types import StringType\n",
    "glueContext = GlueContext(SparkContext.getOrCreate())\n",
    "spark = glueContext.spark_session"
   ]
  },
  {
   "cell_type": "code",
   "execution_count": 2,
   "metadata": {},
   "outputs": [],
   "source": [
    "pg_dyf = glueContext.create_dynamic_frame.from_catalog(database = \"testcollins\", table_name = \"small_collinsdb_public_small_flights_tyler\")"
   ]
  },
  {
   "cell_type": "code",
   "execution_count": 4,
   "metadata": {},
   "outputs": [],
   "source": [
    "s3_dyf = glueContext.create_dynamic_frame.from_catalog(database = \"testcollins\", table_name = \"s3small_smallflight\")"
   ]
  },
  {
   "cell_type": "code",
   "execution_count": 5,
   "metadata": {},
   "outputs": [],
   "source": [
    "pg_df = pg_dyf.toDF()\n",
    "s3_df = s3_dyf.toDF()"
   ]
  },
  {
   "cell_type": "code",
   "execution_count": 6,
   "metadata": {},
   "outputs": [
    {
     "name": "stdout",
     "output_type": "stream",
     "text": [
      "+-------------------+---------------+---------+-------+-----------+------------+\n",
      "|          flight_id|          route|departure|arrival|tail_number|message_type|\n",
      "+-------------------+---------------+---------+-------+-----------+------------+\n",
      "|        FLIGHTIDABC|KD45Q DCT KD42S|      CNN|    FOX|      6969B|    NOT NULL|\n",
      "|        AVCFLIGHTID| HASSL DCT KD45|    MSNBC|     RT|     56556C|    NOT NULL|\n",
      "| ONETOTHREEFLIGHTID|    OOP UUY HYN|      HOS|    RBC|      7878T|    NOT NULL|\n",
      "|FOURFIVESIXFLIGHTID|    OOP UUY HYN|      HOS|    RBC|      0086H|    NOT NULL|\n",
      "+-------------------+---------------+---------+-------+-----------+------------+"
     ]
    }
   ],
   "source": [
    "pg_df.show()"
   ]
  },
  {
   "cell_type": "code",
   "execution_count": 7,
   "metadata": {},
   "outputs": [
    {
     "name": "stdout",
     "output_type": "stream",
     "text": [
      "+-----------+--------------------+---------+-------+----------+--------+\n",
      "|messageType|               route|departure|arrival|tailNumber|flightId|\n",
      "+-----------+--------------------+---------+-------+----------+--------+\n",
      "|        FPL|NIITE3 SYRAH Q130...|     KSFO|   KDFW|    0E640B| 8C47211|\n",
      "+-----------+--------------------+---------+-------+----------+--------+"
     ]
    }
   ],
   "source": [
    "s3_df.show()"
   ]
  },
  {
   "cell_type": "code",
   "execution_count": 9,
   "metadata": {},
   "outputs": [
    {
     "name": "stdout",
     "output_type": "stream",
     "text": [
      "+-----------+---------------+---------+-------+-----------+------------+\n",
      "|  flight_id|          route|departure|arrival|tail_number|message_type|\n",
      "+-----------+---------------+---------+-------+-----------+------------+\n",
      "|FLIGHTIDABC|KD45Q DCT KD42S|      CNN|    FOX|      6969B|    NOT NULL|\n",
      "+-----------+---------------+---------+-------+-----------+------------+"
     ]
    }
   ],
   "source": [
    "pg_df[pg_df['flight_id'] == 'FLIGHTIDABC'].show()"
   ]
  },
  {
   "cell_type": "code",
   "execution_count": 10,
   "metadata": {},
   "outputs": [],
   "source": [
    "columns = ['id', 'dogs', 'cats']\n",
    "vals = [(1, 2, 0), (2, 0, 1)]\n",
    "\n",
    "df = spark.createDataFrame(vals, columns)"
   ]
  },
  {
   "cell_type": "code",
   "execution_count": 12,
   "metadata": {},
   "outputs": [
    {
     "name": "stdout",
     "output_type": "stream",
     "text": [
      "+---+----+----+\n",
      "| id|dogs|cats|\n",
      "+---+----+----+\n",
      "|  1|   2|   0|\n",
      "|  2|   0|   1|\n",
      "|  4|   5|   7|\n",
      "+---+----+----+"
     ]
    }
   ],
   "source": [
    "newRow = spark.createDataFrame([(4,5,7)], columns)\n",
    "appended = df.union(newRow)\n",
    "appended.show()"
   ]
  },
  {
   "cell_type": "code",
   "execution_count": 17,
   "metadata": {},
   "outputs": [],
   "source": [
    "def squared(s):\n",
    "  return s * s\n",
    "spark.udf.register(\"squaredWithPython\", squared)\n",
    "from pyspark.sql.types import LongType\n",
    "def squared_typed(s):\n",
    "  return s * s\n",
    "spark.udf.register(\"squaredWithPython\", squared, LongType())"
   ]
  },
  {
   "cell_type": "code",
   "execution_count": 23,
   "metadata": {},
   "outputs": [],
   "source": [
    "pg_cols = ['flight_id', 'route', 'departure', 'arrival', 'tail_number', 'message_type']\n",
    "pg_new_vals = [('LMNFLIGHTID', 'KLAS KASE UF', 'MSNBC', 'RT', '3030G', 'NOT NULL')]\n",
    "newRow3 = spark.createDataFrame([('LMNFLIGHTID', 'KLAS KASE UF', 'MSNBC', 'RT', '3030G', 'NOT NULL')], pg_cols)\n"
   ]
  },
  {
   "cell_type": "code",
   "execution_count": 24,
   "metadata": {},
   "outputs": [],
   "source": [
    "appended2 = pg_df.union(newRow3)"
   ]
  },
  {
   "cell_type": "code",
   "execution_count": 25,
   "metadata": {},
   "outputs": [
    {
     "name": "stdout",
     "output_type": "stream",
     "text": [
      "+-------------------+---------------+---------+-------+-----------+------------+\n",
      "|          flight_id|          route|departure|arrival|tail_number|message_type|\n",
      "+-------------------+---------------+---------+-------+-----------+------------+\n",
      "|        FLIGHTIDABC|KD45Q DCT KD42S|      CNN|    FOX|      6969B|    NOT NULL|\n",
      "|        AVCFLIGHTID| HASSL DCT KD45|    MSNBC|     RT|     56556C|    NOT NULL|\n",
      "| ONETOTHREEFLIGHTID|    OOP UUY HYN|      HOS|    RBC|      7878T|    NOT NULL|\n",
      "|FOURFIVESIXFLIGHTID|    OOP UUY HYN|      HOS|    RBC|      0086H|    NOT NULL|\n",
      "|        LMNFLIGHTID|   KLAS KASE UF|    MSNBC|     RT|      3030G|    NOT NULL|\n",
      "+-------------------+---------------+---------+-------+-----------+------------+"
     ]
    }
   ],
   "source": [
    "appended2.show()"
   ]
  },
  {
   "cell_type": "code",
   "execution_count": 29,
   "metadata": {},
   "outputs": [],
   "source": [
    "pg_cols2 = ['flight_id', 'route', 'departure', 'arrival', 'tail_number', 'message_type']\n",
    "pg_new_vals2 = [('OPFLIGHID', 'KLAS KASE UF', 'MSNBC', 'RT', '3030G', 'NOT NULL')]\n",
    "newRow4 = spark.createDataFrame([('OPFLIGHID', 'KLAS KASE UF', 'MSNBC', 'RT', '3030G', 'NOT NULL')], pg_cols)\n",
    "appended3 = appended2.union(newRow4)"
   ]
  },
  {
   "cell_type": "code",
   "execution_count": 30,
   "metadata": {},
   "outputs": [
    {
     "name": "stdout",
     "output_type": "stream",
     "text": [
      "+-------------------+---------------+---------+-------+-----------+------------+\n",
      "|          flight_id|          route|departure|arrival|tail_number|message_type|\n",
      "+-------------------+---------------+---------+-------+-----------+------------+\n",
      "|        FLIGHTIDABC|KD45Q DCT KD42S|      CNN|    FOX|      6969B|    NOT NULL|\n",
      "|        AVCFLIGHTID| HASSL DCT KD45|    MSNBC|     RT|     56556C|    NOT NULL|\n",
      "| ONETOTHREEFLIGHTID|    OOP UUY HYN|      HOS|    RBC|      7878T|    NOT NULL|\n",
      "|FOURFIVESIXFLIGHTID|    OOP UUY HYN|      HOS|    RBC|      0086H|    NOT NULL|\n",
      "|        LMNFLIGHTID|   KLAS KASE UF|    MSNBC|     RT|      3030G|    NOT NULL|\n",
      "|          OPFLIGHID|   KLAS KASE UF|    MSNBC|     RT|      3030G|    NOT NULL|\n",
      "+-------------------+---------------+---------+-------+-----------+------------+"
     ]
    }
   ],
   "source": [
    "appended3.show()"
   ]
  },
  {
   "cell_type": "code",
   "execution_count": 31,
   "metadata": {},
   "outputs": [],
   "source": [
    "appended3.createOrReplaceTempView(\"flights_temp_table\")"
   ]
  },
  {
   "cell_type": "code",
   "execution_count": 34,
   "metadata": {},
   "outputs": [],
   "source": [
    "sqlTemp = spark.sql(\"SELECT * FROM flights_temp_table\")"
   ]
  },
  {
   "cell_type": "code",
   "execution_count": 36,
   "metadata": {},
   "outputs": [
    {
     "name": "stdout",
     "output_type": "stream",
     "text": [
      "+-------------------+---------------+---------+-------+-----------+------------+\n",
      "|          flight_id|          route|departure|arrival|tail_number|message_type|\n",
      "+-------------------+---------------+---------+-------+-----------+------------+\n",
      "|        FLIGHTIDABC|KD45Q DCT KD42S|      CNN|    FOX|      6969B|    NOT NULL|\n",
      "|        AVCFLIGHTID| HASSL DCT KD45|    MSNBC|     RT|     56556C|    NOT NULL|\n",
      "| ONETOTHREEFLIGHTID|    OOP UUY HYN|      HOS|    RBC|      7878T|    NOT NULL|\n",
      "|FOURFIVESIXFLIGHTID|    OOP UUY HYN|      HOS|    RBC|      0086H|    NOT NULL|\n",
      "|        LMNFLIGHTID|   KLAS KASE UF|    MSNBC|     RT|      3030G|    NOT NULL|\n",
      "|          OPFLIGHID|   KLAS KASE UF|    MSNBC|     RT|      3030G|    NOT NULL|\n",
      "+-------------------+---------------+---------+-------+-----------+------------+"
     ]
    }
   ],
   "source": [
    "sqlTemp.show()"
   ]
  },
  {
   "cell_type": "code",
   "execution_count": 37,
   "metadata": {},
   "outputs": [],
   "source": [
    "pg_cols3 = ['flight_id', 'route', 'departure', 'arrival', 'tail_number', 'message_type']\n",
    "newRow5 = spark.createDataFrame([('OPFLIGHID', 'KLAS KASE UF', 'MSNBC', 'RT', '3030G', 'NOT NULL')], pg_cols)\n",
    "appended4 = appended3.union(newRow5)"
   ]
  },
  {
   "cell_type": "code",
   "execution_count": 38,
   "metadata": {},
   "outputs": [
    {
     "name": "stdout",
     "output_type": "stream",
     "text": [
      "+-------------------+---------------+---------+-------+-----------+------------+\n",
      "|          flight_id|          route|departure|arrival|tail_number|message_type|\n",
      "+-------------------+---------------+---------+-------+-----------+------------+\n",
      "|        FLIGHTIDABC|KD45Q DCT KD42S|      CNN|    FOX|      6969B|    NOT NULL|\n",
      "|        AVCFLIGHTID| HASSL DCT KD45|    MSNBC|     RT|     56556C|    NOT NULL|\n",
      "| ONETOTHREEFLIGHTID|    OOP UUY HYN|      HOS|    RBC|      7878T|    NOT NULL|\n",
      "|FOURFIVESIXFLIGHTID|    OOP UUY HYN|      HOS|    RBC|      0086H|    NOT NULL|\n",
      "|        LMNFLIGHTID|   KLAS KASE UF|    MSNBC|     RT|      3030G|    NOT NULL|\n",
      "|          OPFLIGHID|   KLAS KASE UF|    MSNBC|     RT|      3030G|    NOT NULL|\n",
      "|          OPFLIGHID|   KLAS KASE UF|    MSNBC|     RT|      3030G|    NOT NULL|\n",
      "+-------------------+---------------+---------+-------+-----------+------------+"
     ]
    }
   ],
   "source": [
    "appended4.show()"
   ]
  },
  {
   "cell_type": "code",
   "execution_count": 42,
   "metadata": {},
   "outputs": [],
   "source": [
    "noop = appended4.filter(appended4.flight_id != 'OPFLIGHID')"
   ]
  },
  {
   "cell_type": "code",
   "execution_count": 43,
   "metadata": {},
   "outputs": [
    {
     "name": "stdout",
     "output_type": "stream",
     "text": [
      "+-------------------+---------------+---------+-------+-----------+------------+\n",
      "|          flight_id|          route|departure|arrival|tail_number|message_type|\n",
      "+-------------------+---------------+---------+-------+-----------+------------+\n",
      "|        FLIGHTIDABC|KD45Q DCT KD42S|      CNN|    FOX|      6969B|    NOT NULL|\n",
      "|        AVCFLIGHTID| HASSL DCT KD45|    MSNBC|     RT|     56556C|    NOT NULL|\n",
      "| ONETOTHREEFLIGHTID|    OOP UUY HYN|      HOS|    RBC|      7878T|    NOT NULL|\n",
      "|FOURFIVESIXFLIGHTID|    OOP UUY HYN|      HOS|    RBC|      0086H|    NOT NULL|\n",
      "|        LMNFLIGHTID|   KLAS KASE UF|    MSNBC|     RT|      3030G|    NOT NULL|\n",
      "+-------------------+---------------+---------+-------+-----------+------------+"
     ]
    }
   ],
   "source": [
    "noop.show()"
   ]
  },
  {
   "cell_type": "code",
   "execution_count": 54,
   "metadata": {},
   "outputs": [],
   "source": [
    "uniq_df = appended4.select('flight_id').distinct().collect()"
   ]
  },
  {
   "cell_type": "code",
   "execution_count": 58,
   "metadata": {},
   "outputs": [],
   "source": [
    "uniq2 = appended4.dropDuplicates(['flight_id'])"
   ]
  },
  {
   "cell_type": "code",
   "execution_count": 59,
   "metadata": {},
   "outputs": [
    {
     "name": "stdout",
     "output_type": "stream",
     "text": [
      "+-------------------+---------------+---------+-------+-----------+------------+\n",
      "|          flight_id|          route|departure|arrival|tail_number|message_type|\n",
      "+-------------------+---------------+---------+-------+-----------+------------+\n",
      "|        FLIGHTIDABC|KD45Q DCT KD42S|      CNN|    FOX|      6969B|    NOT NULL|\n",
      "|        LMNFLIGHTID|   KLAS KASE UF|    MSNBC|     RT|      3030G|    NOT NULL|\n",
      "|          OPFLIGHID|   KLAS KASE UF|    MSNBC|     RT|      3030G|    NOT NULL|\n",
      "|        AVCFLIGHTID| HASSL DCT KD45|    MSNBC|     RT|     56556C|    NOT NULL|\n",
      "|FOURFIVESIXFLIGHTID|    OOP UUY HYN|      HOS|    RBC|      0086H|    NOT NULL|\n",
      "| ONETOTHREEFLIGHTID|    OOP UUY HYN|      HOS|    RBC|      7878T|    NOT NULL|\n",
      "+-------------------+---------------+---------+-------+-----------+------------+"
     ]
    }
   ],
   "source": [
    "uniq2.show()"
   ]
  },
  {
   "cell_type": "code",
   "execution_count": null,
   "metadata": {},
   "outputs": [],
   "source": []
  }
 ],
 "metadata": {
  "kernelspec": {
   "display_name": "Sparkmagic (PySpark)",
   "language": "",
   "name": "pysparkkernel"
  },
  "language_info": {
   "codemirror_mode": {
    "name": "python",
    "version": 2
   },
   "mimetype": "text/x-python",
   "name": "pyspark",
   "pygments_lexer": "python2"
  }
 },
 "nbformat": 4,
 "nbformat_minor": 2
}
